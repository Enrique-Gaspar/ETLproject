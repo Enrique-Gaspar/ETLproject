{
 "cells": [
  {
   "cell_type": "code",
   "execution_count": 4,
   "metadata": {},
   "outputs": [],
   "source": [
    "# Dependencies (storing and anaysis)\n",
    "import numpy as np\n",
    "import pandas as pd\n",
    "\n",
    "# Dependencies (visualization)\n",
    "import matplotlib.pyplot as plt\n",
    "import matplotlib.dates as mdates\n",
    "import seaborn as sns"
   ]
  },
  {
   "cell_type": "code",
   "execution_count": 7,
   "metadata": {},
   "outputs": [
    {
     "name": "stdout",
     "output_type": "stream",
     "text": [
      "         Province/State  Country/Region      Lat      Long       Date  \\\n",
      "0                 Anhui  Mainland China  31.8257  117.2264 2020-01-22   \n",
      "1               Beijing  Mainland China  40.1824  116.4142 2020-01-22   \n",
      "2             Chongqing  Mainland China  30.0572  107.8740 2020-01-22   \n",
      "3                Fujian  Mainland China  26.0789  117.9874 2020-01-22   \n",
      "4                 Gansu  Mainland China  36.0611  103.8343 2020-01-22   \n",
      "...                 ...             ...      ...       ...        ...   \n",
      "9085  Ramsey County, MN              US  44.9964  -93.0616 2020-03-06   \n",
      "9086  Washoe County, NV              US  40.5608 -119.6035 2020-03-06   \n",
      "9087   Wayne County, PA              US  41.6739  -75.2479 2020-03-06   \n",
      "9088    Yolo County, CA              US  38.7646 -121.9018 2020-03-06   \n",
      "9089                NaN    Vatican City  41.9029   12.4534 2020-03-06   \n",
      "\n",
      "      Confirmed  Deaths  Recovered  \n",
      "0           1.0     0.0        0.0  \n",
      "1          14.0     0.0        0.0  \n",
      "2           6.0     0.0        0.0  \n",
      "3           1.0     0.0        0.0  \n",
      "4           0.0     0.0        0.0  \n",
      "...         ...     ...        ...  \n",
      "9085        1.0     0.0        0.0  \n",
      "9086        1.0     0.0        0.0  \n",
      "9087        1.0     0.0        0.0  \n",
      "9088        1.0     0.0        0.0  \n",
      "9089        1.0     0.0        0.0  \n",
      "\n",
      "[9090 rows x 8 columns]\n"
     ]
    }
   ],
   "source": [
    "# COVID-19 Data\n",
    "\n",
    "# covid_19 dataset\n",
    "covid = pd.read_csv('Resources/covid_2020.csv', parse_dates=['Date'])\n",
    "print(covid)   "
   ]
  },
  {
   "cell_type": "code",
   "execution_count": null,
   "metadata": {},
   "outputs": [],
   "source": [
    " "
   ]
  }
 ],
 "metadata": {
  "kernelspec": {
   "display_name": "Python [conda env:PythonData] *",
   "language": "python",
   "name": "conda-env-PythonData-py"
  },
  "language_info": {
   "codemirror_mode": {
    "name": "ipython",
    "version": 3
   },
   "file_extension": ".py",
   "mimetype": "text/x-python",
   "name": "python",
   "nbconvert_exporter": "python",
   "pygments_lexer": "ipython3",
   "version": "3.6.9"
  }
 },
 "nbformat": 4,
 "nbformat_minor": 2
}
