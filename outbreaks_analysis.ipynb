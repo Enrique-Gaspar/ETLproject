{
 "cells": [
  {
   "cell_type": "code",
   "execution_count": 1,
   "metadata": {},
   "outputs": [],
   "source": [
    "# Dependencies (storing and anaysis)\n",
    "import numpy as np\n",
    "import pandas as pd\n",
    "\n",
    "# Dependencies (visualization)\n",
    "import matplotlib.pyplot as plt\n",
    "import matplotlib.dates as mdates\n",
    "import seaborn as sns"
   ]
  },
  {
   "cell_type": "code",
   "execution_count": 2,
   "metadata": {},
   "outputs": [
    {
     "name": "stdout",
     "output_type": "stream",
     "text": [
      "         Province/State  Country/Region      Lat      Long       Date  \\\n",
      "0                 Anhui  Mainland China  31.8257  117.2264 2020-01-22   \n",
      "1               Beijing  Mainland China  40.1824  116.4142 2020-01-22   \n",
      "2             Chongqing  Mainland China  30.0572  107.8740 2020-01-22   \n",
      "3                Fujian  Mainland China  26.0789  117.9874 2020-01-22   \n",
      "4                 Gansu  Mainland China  36.0611  103.8343 2020-01-22   \n",
      "...                 ...             ...      ...       ...        ...   \n",
      "9085  Ramsey County, MN              US  44.9964  -93.0616 2020-03-06   \n",
      "9086  Washoe County, NV              US  40.5608 -119.6035 2020-03-06   \n",
      "9087   Wayne County, PA              US  41.6739  -75.2479 2020-03-06   \n",
      "9088    Yolo County, CA              US  38.7646 -121.9018 2020-03-06   \n",
      "9089                NaN    Vatican City  41.9029   12.4534 2020-03-06   \n",
      "\n",
      "      Confirmed  Deaths  Recovered  \n",
      "0           1.0     0.0        0.0  \n",
      "1          14.0     0.0        0.0  \n",
      "2           6.0     0.0        0.0  \n",
      "3           1.0     0.0        0.0  \n",
      "4           0.0     0.0        0.0  \n",
      "...         ...     ...        ...  \n",
      "9085        1.0     0.0        0.0  \n",
      "9086        1.0     0.0        0.0  \n",
      "9087        1.0     0.0        0.0  \n",
      "9088        1.0     0.0        0.0  \n",
      "9089        1.0     0.0        0.0  \n",
      "\n",
      "[9090 rows x 8 columns]\n"
     ]
    }
   ],
   "source": [
    "# COVID-19 Data\n",
    "\n",
    "# covid_19 dataset\n",
    "covid = pd.read_csv('Resources/covid_2020.csv', parse_dates=['Date'])\n",
    "print(covid)   "
   ]
  },
  {
   "cell_type": "code",
   "execution_count": 3,
   "metadata": {},
   "outputs": [
    {
     "name": "stdout",
     "output_type": "stream",
     "text": [
      "           Date  Country/Region  Confirmed  Deaths  Recovered\n",
      "0    2020-01-22  Mainland China        1.0     0.0        0.0\n",
      "1    2020-01-22  Mainland China       14.0     0.0        0.0\n",
      "2    2020-01-22  Mainland China        6.0     0.0        0.0\n",
      "3    2020-01-22  Mainland China        1.0     0.0        0.0\n",
      "4    2020-01-22  Mainland China        0.0     0.0        0.0\n",
      "...         ...             ...        ...     ...        ...\n",
      "9085 2020-03-06              US        1.0     0.0        0.0\n",
      "9086 2020-03-06              US        1.0     0.0        0.0\n",
      "9087 2020-03-06              US        1.0     0.0        0.0\n",
      "9088 2020-03-06              US        1.0     0.0        0.0\n",
      "9089 2020-03-06    Vatican City        1.0     0.0        0.0\n",
      "\n",
      "[9090 rows x 5 columns]\n"
     ]
    }
   ],
   "source": [
    " # selecting only the columns we need\n",
    "covid = covid[['Date', 'Country/Region', 'Confirmed', 'Deaths', 'Recovered']]\n",
    "print(covid)"
   ]
  },
  {
   "cell_type": "code",
   "execution_count": 4,
   "metadata": {},
   "outputs": [
    {
     "name": "stdout",
     "output_type": "stream",
     "text": [
      "           Date         Country  Cases  Deaths  Recovered\n",
      "0    2020-01-22  Mainland China    1.0     0.0        0.0\n",
      "1    2020-01-22  Mainland China   14.0     0.0        0.0\n",
      "2    2020-01-22  Mainland China    6.0     0.0        0.0\n",
      "3    2020-01-22  Mainland China    1.0     0.0        0.0\n",
      "4    2020-01-22  Mainland China    0.0     0.0        0.0\n",
      "...         ...             ...    ...     ...        ...\n",
      "9085 2020-03-06              US    1.0     0.0        0.0\n",
      "9086 2020-03-06              US    1.0     0.0        0.0\n",
      "9087 2020-03-06              US    1.0     0.0        0.0\n",
      "9088 2020-03-06              US    1.0     0.0        0.0\n",
      "9089 2020-03-06    Vatican City    1.0     0.0        0.0\n",
      "\n",
      "[9090 rows x 5 columns]\n"
     ]
    }
   ],
   "source": [
    "# renaming columns with slash\n",
    "covid.columns = ['Date', 'Country', 'Cases', 'Deaths', 'Recovered']\n",
    "print(covid)"
   ]
  },
  {
   "cell_type": "code",
   "execution_count": 5,
   "metadata": {},
   "outputs": [
    {
     "name": "stdout",
     "output_type": "stream",
     "text": [
      "           Date               Country  Cases  Deaths  Recovered\n",
      "0    2020-01-22           Afghanistan    0.0     0.0        0.0\n",
      "1    2020-01-22               Algeria    0.0     0.0        0.0\n",
      "2    2020-01-22               Andorra    0.0     0.0        0.0\n",
      "3    2020-01-22             Argentina    0.0     0.0        0.0\n",
      "4    2020-01-22               Armenia    0.0     0.0        0.0\n",
      "...         ...                   ...    ...     ...        ...\n",
      "4450 2020-03-06                    US  278.0    14.0        8.0\n",
      "4451 2020-03-06               Ukraine    1.0     0.0        0.0\n",
      "4452 2020-03-06  United Arab Emirates   29.0     0.0        5.0\n",
      "4453 2020-03-06          Vatican City    1.0     0.0        0.0\n",
      "4454 2020-03-06               Vietnam   16.0     0.0       16.0\n",
      "\n",
      "[4455 rows x 5 columns]\n"
     ]
    }
   ],
   "source": [
    "# group by date and country\n",
    "covid = covid.groupby(['Date', 'Country'])['Cases', 'Deaths', 'Recovered']\n",
    "covid = covid.sum().reset_index()\n",
    "print(covid)"
   ]
  },
  {
   "cell_type": "code",
   "execution_count": 6,
   "metadata": {},
   "outputs": [
    {
     "name": "stdout",
     "output_type": "stream",
     "text": [
      "           Date               Country  Cases  Deaths  Recovered\n",
      "44   2020-01-22                 Japan    2.0     0.0        0.0\n",
      "52   2020-01-22                 Macau    1.0     0.0        0.0\n",
      "53   2020-01-22        Mainland China  547.0    17.0       28.0\n",
      "84   2020-01-22           South Korea    1.0     0.0        0.0\n",
      "89   2020-01-22                Taiwan    1.0     0.0        0.0\n",
      "...         ...                   ...    ...     ...        ...\n",
      "4450 2020-03-06                    US  278.0    14.0        8.0\n",
      "4451 2020-03-06               Ukraine    1.0     0.0        0.0\n",
      "4452 2020-03-06  United Arab Emirates   29.0     0.0        5.0\n",
      "4453 2020-03-06          Vatican City    1.0     0.0        0.0\n",
      "4454 2020-03-06               Vietnam   16.0     0.0       16.0\n",
      "\n",
      "[1640 rows x 5 columns]\n"
     ]
    }
   ],
   "source": [
    "# only countries with cases\n",
    "covid_cases = covid[covid['Cases']>0]\n",
    "print(covid_cases)"
   ]
  },
  {
   "cell_type": "code",
   "execution_count": 7,
   "metadata": {},
   "outputs": [
    {
     "data": {
      "text/html": [
       "<div>\n",
       "<style scoped>\n",
       "    .dataframe tbody tr th:only-of-type {\n",
       "        vertical-align: middle;\n",
       "    }\n",
       "\n",
       "    .dataframe tbody tr th {\n",
       "        vertical-align: top;\n",
       "    }\n",
       "\n",
       "    .dataframe thead th {\n",
       "        text-align: right;\n",
       "    }\n",
       "</style>\n",
       "<table border=\"1\" class=\"dataframe\">\n",
       "  <thead>\n",
       "    <tr style=\"text-align: right;\">\n",
       "      <th></th>\n",
       "      <th>Date</th>\n",
       "      <th>Country</th>\n",
       "      <th>Cases</th>\n",
       "      <th>Deaths</th>\n",
       "      <th>Recovered</th>\n",
       "    </tr>\n",
       "  </thead>\n",
       "  <tbody>\n",
       "    <tr>\n",
       "      <th>44</th>\n",
       "      <td>2020-01-22</td>\n",
       "      <td>Japan</td>\n",
       "      <td>2.0</td>\n",
       "      <td>0.0</td>\n",
       "      <td>0.0</td>\n",
       "    </tr>\n",
       "    <tr>\n",
       "      <th>52</th>\n",
       "      <td>2020-01-22</td>\n",
       "      <td>Macau</td>\n",
       "      <td>1.0</td>\n",
       "      <td>0.0</td>\n",
       "      <td>0.0</td>\n",
       "    </tr>\n",
       "    <tr>\n",
       "      <th>53</th>\n",
       "      <td>2020-01-22</td>\n",
       "      <td>Mainland China</td>\n",
       "      <td>547.0</td>\n",
       "      <td>17.0</td>\n",
       "      <td>28.0</td>\n",
       "    </tr>\n",
       "    <tr>\n",
       "      <th>84</th>\n",
       "      <td>2020-01-22</td>\n",
       "      <td>South Korea</td>\n",
       "      <td>1.0</td>\n",
       "      <td>0.0</td>\n",
       "      <td>0.0</td>\n",
       "    </tr>\n",
       "    <tr>\n",
       "      <th>89</th>\n",
       "      <td>2020-01-22</td>\n",
       "      <td>Taiwan</td>\n",
       "      <td>1.0</td>\n",
       "      <td>0.0</td>\n",
       "      <td>0.0</td>\n",
       "    </tr>\n",
       "  </tbody>\n",
       "</table>\n",
       "</div>"
      ],
      "text/plain": [
       "         Date         Country  Cases  Deaths  Recovered\n",
       "44 2020-01-22           Japan    2.0     0.0        0.0\n",
       "52 2020-01-22           Macau    1.0     0.0        0.0\n",
       "53 2020-01-22  Mainland China  547.0    17.0       28.0\n",
       "84 2020-01-22     South Korea    1.0     0.0        0.0\n",
       "89 2020-01-22          Taiwan    1.0     0.0        0.0"
      ]
     },
     "execution_count": 7,
     "metadata": {},
     "output_type": "execute_result"
    }
   ],
   "source": [
    "covid_cases.head()"
   ]
  },
  {
   "cell_type": "code",
   "execution_count": 8,
   "metadata": {},
   "outputs": [],
   "source": [
    "#open('u.item', encoding = \"ISO-8859-1\")"
   ]
  },
  {
   "cell_type": "code",
   "execution_count": 9,
   "metadata": {},
   "outputs": [
    {
     "name": "stdout",
     "output_type": "stream",
     "text": [
      "                       Country  Cases  Deaths                Date\n",
      "0                      Algeria      5     0.0 2009-07-06 09:00:00\n",
      "1          Antigua and Barbuda      2     0.0 2009-07-06 09:00:00\n",
      "2                    Argentina   2485    60.0 2009-07-06 09:00:00\n",
      "3                    Australia   5298    10.0 2009-07-06 09:00:00\n",
      "4                      Austria     19     0.0 2009-07-06 09:00:00\n",
      "...                        ...    ...     ...                 ...\n",
      "1817                  Thailand      2     0.0 2009-05-23 08:00:00\n",
      "1818                    Turkey      2     0.0 2009-05-23 08:00:00\n",
      "1819            United Kingdom    117     0.0 2009-05-23 08:00:00\n",
      "1820  United States of America   6552     9.0 2009-05-23 08:00:00\n",
      "1821               Grand Total  12022    86.0 2009-05-23 08:00:00\n",
      "\n",
      "[1822 rows x 4 columns]\n"
     ]
    }
   ],
   "source": [
    "# h1n1 Data\n",
    "\n",
    "# h1n1 dataset\n",
    "h1n1 = pd.read_csv('Resources/h1n1_2009.csv',  encoding = \"ISO-8859-1\", parse_dates=['Date'])\n",
    "print(h1n1) "
   ]
  },
  {
   "cell_type": "code",
   "execution_count": 10,
   "metadata": {},
   "outputs": [
    {
     "name": "stdout",
     "output_type": "stream",
     "text": [
      "                    Date                   Country  Cases  Deaths\n",
      "0    2009-07-06 09:00:00                   Algeria      5     0.0\n",
      "1    2009-07-06 09:00:00       Antigua and Barbuda      2     0.0\n",
      "2    2009-07-06 09:00:00                 Argentina   2485    60.0\n",
      "3    2009-07-06 09:00:00                 Australia   5298    10.0\n",
      "4    2009-07-06 09:00:00                   Austria     19     0.0\n",
      "...                  ...                       ...    ...     ...\n",
      "1817 2009-05-23 08:00:00                  Thailand      2     0.0\n",
      "1818 2009-05-23 08:00:00                    Turkey      2     0.0\n",
      "1819 2009-05-23 08:00:00            United Kingdom    117     0.0\n",
      "1820 2009-05-23 08:00:00  United States of America   6552     9.0\n",
      "1821 2009-05-23 08:00:00               Grand Total  12022    86.0\n",
      "\n",
      "[1822 rows x 4 columns]\n"
     ]
    }
   ],
   "source": [
    " # selecting only the columns we need\n",
    "h1n1 = h1n1[['Date', 'Country', 'Cases', 'Deaths']]\n",
    "print(h1n1)"
   ]
  },
  {
   "cell_type": "code",
   "execution_count": 11,
   "metadata": {},
   "outputs": [
    {
     "name": "stdout",
     "output_type": "stream",
     "text": [
      "                    Date                  Country  Cases  Deaths\n",
      "0    2009-05-23 08:00:00                Argentina      1     0.0\n",
      "1    2009-05-23 08:00:00                Australia     12     0.0\n",
      "2    2009-05-23 08:00:00                  Austria      1     0.0\n",
      "3    2009-05-23 08:00:00                  Belgium      7     0.0\n",
      "4    2009-05-23 08:00:00                   Brazil      8     0.0\n",
      "...                  ...                      ...    ...     ...\n",
      "1817 2009-07-06 09:00:00       Netherlands, Aruba      5     0.0\n",
      "1818 2009-07-06 09:00:00       New Caledonia, FOC     12     0.0\n",
      "1819 2009-07-06 09:00:00              Puerto Rico     18     0.0\n",
      "1820 2009-07-06 09:00:00        Saint Martin, FOC      1     0.0\n",
      "1821 2009-07-06 09:00:00           Virgin Islands      1     0.0\n",
      "\n",
      "[1822 rows x 4 columns]\n"
     ]
    }
   ],
   "source": [
    "# group by date and country\n",
    "h1n1 = h1n1.groupby(['Date', 'Country'])['Cases', 'Deaths']\n",
    "h1n1 = h1n1.sum().reset_index()\n",
    "print(h1n1)"
   ]
  },
  {
   "cell_type": "code",
   "execution_count": 12,
   "metadata": {},
   "outputs": [
    {
     "name": "stdout",
     "output_type": "stream",
     "text": [
      "                    Date                  Country  Cases  Deaths\n",
      "0    2009-05-23 08:00:00                Argentina      1     0.0\n",
      "1    2009-05-23 08:00:00                Australia     12     0.0\n",
      "2    2009-05-23 08:00:00                  Austria      1     0.0\n",
      "3    2009-05-23 08:00:00                  Belgium      7     0.0\n",
      "4    2009-05-23 08:00:00                   Brazil      8     0.0\n",
      "...                  ...                      ...    ...     ...\n",
      "1817 2009-07-06 09:00:00       Netherlands, Aruba      5     0.0\n",
      "1818 2009-07-06 09:00:00       New Caledonia, FOC     12     0.0\n",
      "1819 2009-07-06 09:00:00              Puerto Rico     18     0.0\n",
      "1820 2009-07-06 09:00:00        Saint Martin, FOC      1     0.0\n",
      "1821 2009-07-06 09:00:00           Virgin Islands      1     0.0\n",
      "\n",
      "[1822 rows x 4 columns]\n"
     ]
    }
   ],
   "source": [
    "# only countries with cases\n",
    "h1n1_cases = h1n1[h1n1['Cases']>0]\n",
    "print(h1n1_cases)"
   ]
  },
  {
   "cell_type": "code",
   "execution_count": 13,
   "metadata": {},
   "outputs": [
    {
     "name": "stdout",
     "output_type": "stream",
     "text": [
      "           Date               Country  Cumulative number of case(s)  \\\n",
      "0    2003-03-17               Germany                             1   \n",
      "1    2003-03-17                Canada                             8   \n",
      "2    2003-03-17             Singapore                            20   \n",
      "3    2003-03-17  Hong Kong SAR, China                            95   \n",
      "4    2003-03-17           Switzerland                             2   \n",
      "...         ...                   ...                           ...   \n",
      "2533 2003-07-11           Switzerland                             1   \n",
      "2534 2003-07-11              Thailand                             9   \n",
      "2535 2003-07-11        United Kingdom                             4   \n",
      "2536 2003-07-11         United States                            75   \n",
      "2537 2003-07-11              Viet Nam                            63   \n",
      "\n",
      "      Number of deaths  Number recovered  \n",
      "0                    0                 0  \n",
      "1                    2                 0  \n",
      "2                    0                 0  \n",
      "3                    1                 0  \n",
      "4                    0                 0  \n",
      "...                ...               ...  \n",
      "2533                 0                 1  \n",
      "2534                 2                 7  \n",
      "2535                 0                 4  \n",
      "2536                 0                67  \n",
      "2537                 5                58  \n",
      "\n",
      "[2538 rows x 5 columns]\n"
     ]
    }
   ],
   "source": [
    "# sars Data\n",
    "\n",
    "# sars dataset\n",
    "sars = pd.read_csv('Resources/sars_2003.csv', parse_dates=['Date'])\n",
    "print(sars) "
   ]
  },
  {
   "cell_type": "code",
   "execution_count": 14,
   "metadata": {},
   "outputs": [
    {
     "name": "stdout",
     "output_type": "stream",
     "text": [
      "           Date               Country  Cumulative number of case(s)  \\\n",
      "0    2003-03-17               Germany                             1   \n",
      "1    2003-03-17                Canada                             8   \n",
      "2    2003-03-17             Singapore                            20   \n",
      "3    2003-03-17  Hong Kong SAR, China                            95   \n",
      "4    2003-03-17           Switzerland                             2   \n",
      "...         ...                   ...                           ...   \n",
      "2533 2003-07-11           Switzerland                             1   \n",
      "2534 2003-07-11              Thailand                             9   \n",
      "2535 2003-07-11        United Kingdom                             4   \n",
      "2536 2003-07-11         United States                            75   \n",
      "2537 2003-07-11              Viet Nam                            63   \n",
      "\n",
      "      Number of deaths  \n",
      "0                    0  \n",
      "1                    2  \n",
      "2                    0  \n",
      "3                    1  \n",
      "4                    0  \n",
      "...                ...  \n",
      "2533                 0  \n",
      "2534                 2  \n",
      "2535                 0  \n",
      "2536                 0  \n",
      "2537                 5  \n",
      "\n",
      "[2538 rows x 4 columns]\n"
     ]
    }
   ],
   "source": [
    " # selecting only the columns we need\n",
    "sars = sars[['Date', 'Country', 'Cumulative number of case(s)', 'Number of deaths']]\n",
    "print(sars)"
   ]
  },
  {
   "cell_type": "code",
   "execution_count": 15,
   "metadata": {},
   "outputs": [
    {
     "name": "stdout",
     "output_type": "stream",
     "text": [
      "           Date               Country  Cases  Deaths\n",
      "0    2003-03-17               Germany      1       0\n",
      "1    2003-03-17                Canada      8       2\n",
      "2    2003-03-17             Singapore     20       0\n",
      "3    2003-03-17  Hong Kong SAR, China     95       1\n",
      "4    2003-03-17           Switzerland      2       0\n",
      "...         ...                   ...    ...     ...\n",
      "2533 2003-07-11           Switzerland      1       0\n",
      "2534 2003-07-11              Thailand      9       2\n",
      "2535 2003-07-11        United Kingdom      4       0\n",
      "2536 2003-07-11         United States     75       0\n",
      "2537 2003-07-11              Viet Nam     63       5\n",
      "\n",
      "[2538 rows x 4 columns]\n"
     ]
    }
   ],
   "source": [
    "# renaming columns \n",
    "sars.columns = ['Date', 'Country', 'Cases', 'Deaths']\n",
    "print(sars)"
   ]
  },
  {
   "cell_type": "code",
   "execution_count": 16,
   "metadata": {},
   "outputs": [
    {
     "name": "stdout",
     "output_type": "stream",
     "text": [
      "           Date               Country  Cases  Deaths\n",
      "0    2003-03-17                Canada      8       2\n",
      "1    2003-03-17               Germany      1       0\n",
      "2    2003-03-17  Hong Kong SAR, China     95       1\n",
      "3    2003-03-17             Singapore     20       0\n",
      "4    2003-03-17           Switzerland      2       0\n",
      "...         ...                   ...    ...     ...\n",
      "2532 2003-07-11         Taiwan, China    671      84\n",
      "2533 2003-07-11              Thailand      9       2\n",
      "2534 2003-07-11        United Kingdom      4       0\n",
      "2535 2003-07-11         United States     75       0\n",
      "2536 2003-07-11              Viet Nam     63       5\n",
      "\n",
      "[2537 rows x 4 columns]\n"
     ]
    }
   ],
   "source": [
    "# group by date and country\n",
    "sars = sars.groupby(['Date', 'Country'])['Cases', 'Deaths']\n",
    "sars = sars.sum().reset_index()\n",
    "print(sars)"
   ]
  },
  {
   "cell_type": "code",
   "execution_count": 17,
   "metadata": {},
   "outputs": [
    {
     "name": "stdout",
     "output_type": "stream",
     "text": [
      "           Date               Country  Cases  Deaths\n",
      "0    2003-03-17                Canada      8       2\n",
      "1    2003-03-17               Germany      1       0\n",
      "2    2003-03-17  Hong Kong SAR, China     95       1\n",
      "3    2003-03-17             Singapore     20       0\n",
      "4    2003-03-17           Switzerland      2       0\n",
      "...         ...                   ...    ...     ...\n",
      "2532 2003-07-11         Taiwan, China    671      84\n",
      "2533 2003-07-11              Thailand      9       2\n",
      "2534 2003-07-11        United Kingdom      4       0\n",
      "2535 2003-07-11         United States     75       0\n",
      "2536 2003-07-11              Viet Nam     63       5\n",
      "\n",
      "[2530 rows x 4 columns]\n"
     ]
    }
   ],
   "source": [
    "# only countries with cases\n",
    "sars_cases = sars[sars['Cases']>0]\n",
    "print(sars_cases)"
   ]
  },
  {
   "cell_type": "code",
   "execution_count": null,
   "metadata": {},
   "outputs": [],
   "source": []
  },
  {
   "cell_type": "code",
   "execution_count": null,
   "metadata": {},
   "outputs": [],
   "source": []
  },
  {
   "cell_type": "code",
   "execution_count": null,
   "metadata": {},
   "outputs": [],
   "source": []
  }
 ],
 "metadata": {
  "kernelspec": {
   "display_name": "Python [conda env:PythonData] *",
   "language": "python",
   "name": "conda-env-PythonData-py"
  },
  "language_info": {
   "codemirror_mode": {
    "name": "ipython",
    "version": 3
   },
   "file_extension": ".py",
   "mimetype": "text/x-python",
   "name": "python",
   "nbconvert_exporter": "python",
   "pygments_lexer": "ipython3",
   "version": "3.6.9"
  }
 },
 "nbformat": 4,
 "nbformat_minor": 2
}
